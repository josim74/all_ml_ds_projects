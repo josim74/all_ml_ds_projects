{
  "nbformat": 4,
  "nbformat_minor": 0,
  "metadata": {
    "colab": {
      "name": "movie_recommendation_system.ipynb",
      "provenance": []
    },
    "kernelspec": {
      "name": "python3",
      "display_name": "Python 3"
    }
  },
  "cells": [
    {
      "cell_type": "markdown",
      "metadata": {
        "id": "NPrHBkOMSxOx",
        "colab_type": "text"
      },
      "source": [
        "# Movie Recommendation System"
      ]
    },
    {
      "cell_type": "markdown",
      "metadata": {
        "id": "z7ZIS7-0S9xY",
        "colab_type": "text"
      },
      "source": [
        "In this project I am going to build a system that will recommend movie based on Collaboration and Content recommendations.\n",
        "\n",
        "Collaborative: Recommends movies based on other people liked.\n",
        "\n",
        "\n",
        "Content: Recommends movies based on self interest."
      ]
    },
    {
      "cell_type": "code",
      "metadata": {
        "id": "O7sL-bcqV8Bx",
        "colab_type": "code",
        "colab": {
          "base_uri": "https://localhost:8080/",
          "height": 346
        },
        "outputId": "d8234f33-9e6c-4d34-80f8-406a4a059651"
      },
      "source": [
        "#install lightm\n",
        "!pip install lightfm"
      ],
      "execution_count": 4,
      "outputs": [
        {
          "output_type": "stream",
          "text": [
            "Collecting lightfm\n",
            "\u001b[?25l  Downloading https://files.pythonhosted.org/packages/e9/8e/5485ac5a8616abe1c673d1e033e2f232b4319ab95424b42499fabff2257f/lightfm-1.15.tar.gz (302kB)\n",
            "\r\u001b[K     |█                               | 10kB 11.8MB/s eta 0:00:01\r\u001b[K     |██▏                             | 20kB 3.2MB/s eta 0:00:01\r\u001b[K     |███▎                            | 30kB 4.6MB/s eta 0:00:01\r\u001b[K     |████▍                           | 40kB 2.9MB/s eta 0:00:01\r\u001b[K     |█████▍                          | 51kB 3.6MB/s eta 0:00:01\r\u001b[K     |██████▌                         | 61kB 4.3MB/s eta 0:00:01\r\u001b[K     |███████▋                        | 71kB 4.9MB/s eta 0:00:01\r\u001b[K     |████████▊                       | 81kB 5.5MB/s eta 0:00:01\r\u001b[K     |█████████▊                      | 92kB 6.1MB/s eta 0:00:01\r\u001b[K     |██████████▉                     | 102kB 4.8MB/s eta 0:00:01\r\u001b[K     |████████████                    | 112kB 4.8MB/s eta 0:00:01\r\u001b[K     |█████████████                   | 122kB 4.8MB/s eta 0:00:01\r\u001b[K     |██████████████                  | 133kB 4.8MB/s eta 0:00:01\r\u001b[K     |███████████████▏                | 143kB 4.8MB/s eta 0:00:01\r\u001b[K     |████████████████▎               | 153kB 4.8MB/s eta 0:00:01\r\u001b[K     |█████████████████▍              | 163kB 4.8MB/s eta 0:00:01\r\u001b[K     |██████████████████▍             | 174kB 4.8MB/s eta 0:00:01\r\u001b[K     |███████████████████▌            | 184kB 4.8MB/s eta 0:00:01\r\u001b[K     |████████████████████▋           | 194kB 4.8MB/s eta 0:00:01\r\u001b[K     |█████████████████████▊          | 204kB 4.8MB/s eta 0:00:01\r\u001b[K     |██████████████████████▊         | 215kB 4.8MB/s eta 0:00:01\r\u001b[K     |███████████████████████▉        | 225kB 4.8MB/s eta 0:00:01\r\u001b[K     |█████████████████████████       | 235kB 4.8MB/s eta 0:00:01\r\u001b[K     |██████████████████████████      | 245kB 4.8MB/s eta 0:00:01\r\u001b[K     |███████████████████████████     | 256kB 4.8MB/s eta 0:00:01\r\u001b[K     |████████████████████████████▏   | 266kB 4.8MB/s eta 0:00:01\r\u001b[K     |█████████████████████████████▎  | 276kB 4.8MB/s eta 0:00:01\r\u001b[K     |██████████████████████████████▍ | 286kB 4.8MB/s eta 0:00:01\r\u001b[K     |███████████████████████████████▍| 296kB 4.8MB/s eta 0:00:01\r\u001b[K     |████████████████████████████████| 307kB 4.8MB/s \n",
            "\u001b[?25hRequirement already satisfied: numpy in /usr/local/lib/python3.6/dist-packages (from lightfm) (1.16.5)\n",
            "Requirement already satisfied: scipy>=0.17.0 in /usr/local/lib/python3.6/dist-packages (from lightfm) (1.3.1)\n",
            "Requirement already satisfied: requests in /usr/local/lib/python3.6/dist-packages (from lightfm) (2.21.0)\n",
            "Requirement already satisfied: certifi>=2017.4.17 in /usr/local/lib/python3.6/dist-packages (from requests->lightfm) (2019.6.16)\n",
            "Requirement already satisfied: urllib3<1.25,>=1.21.1 in /usr/local/lib/python3.6/dist-packages (from requests->lightfm) (1.24.3)\n",
            "Requirement already satisfied: chardet<3.1.0,>=3.0.2 in /usr/local/lib/python3.6/dist-packages (from requests->lightfm) (3.0.4)\n",
            "Requirement already satisfied: idna<2.9,>=2.5 in /usr/local/lib/python3.6/dist-packages (from requests->lightfm) (2.8)\n",
            "Building wheels for collected packages: lightfm\n",
            "  Building wheel for lightfm (setup.py) ... \u001b[?25l\u001b[?25hdone\n",
            "  Created wheel for lightfm: filename=lightfm-1.15-cp36-cp36m-linux_x86_64.whl size=707631 sha256=ef7bf5708c0fa4d1a56926fc54b35c0d14abe97c3c52e44b2b9f30c5146a4263\n",
            "  Stored in directory: /root/.cache/pip/wheels/eb/bb/ac/188385a5da6627956be5d9663928483b36da576149ab5b8f79\n",
            "Successfully built lightfm\n",
            "Installing collected packages: lightfm\n",
            "Successfully installed lightfm-1.15\n"
          ],
          "name": "stdout"
        }
      ]
    },
    {
      "cell_type": "code",
      "metadata": {
        "id": "LTWJY16GRlhN",
        "colab_type": "code",
        "colab": {}
      },
      "source": [
        "#Import necessary libraries\n",
        "import numpy as np\n",
        "from lightfm.datasets import fetch_movielens\n",
        "from lightfm import LightFM"
      ],
      "execution_count": 0,
      "outputs": []
    },
    {
      "cell_type": "code",
      "metadata": {
        "id": "yoxaWbnoVQrW",
        "colab_type": "code",
        "colab": {
          "base_uri": "https://localhost:8080/",
          "height": 90
        },
        "outputId": "e33abcc0-ff01-4107-d94b-981477f353ca"
      },
      "source": [
        "#Fetch data and format it\n",
        "data = fetch_movielens(min_rating=4.0)\n",
        "\n",
        "#print training and testing data\n",
        "print(repr(data['train']))\n",
        "print(repr(data['test']))"
      ],
      "execution_count": 6,
      "outputs": [
        {
          "output_type": "stream",
          "text": [
            "<943x1682 sparse matrix of type '<class 'numpy.int32'>'\n",
            "\twith 49906 stored elements in COOrdinate format>\n",
            "<943x1682 sparse matrix of type '<class 'numpy.int32'>'\n",
            "\twith 5469 stored elements in COOrdinate format>\n"
          ],
          "name": "stdout"
        }
      ]
    },
    {
      "cell_type": "code",
      "metadata": {
        "id": "pXDY0hZvYR8F",
        "colab_type": "code",
        "colab": {
          "base_uri": "https://localhost:8080/",
          "height": 35
        },
        "outputId": "afe03757-487d-424b-c7d6-49f56729e0c6"
      },
      "source": [
        "#create model\n",
        "model = LightFM(loss='warp')\n",
        "\n",
        "#train model\n",
        "model.fit(data['train'], epochs = 30, num_threads = 2)"
      ],
      "execution_count": 8,
      "outputs": [
        {
          "output_type": "execute_result",
          "data": {
            "text/plain": [
              "<lightfm.lightfm.LightFM at 0x7f24d3045a58>"
            ]
          },
          "metadata": {
            "tags": []
          },
          "execution_count": 8
        }
      ]
    },
    {
      "cell_type": "code",
      "metadata": {
        "id": "metcgJiGZO1o",
        "colab_type": "code",
        "colab": {}
      },
      "source": [
        "#create recommendation function\n",
        "def sample_recommendation(model, data, user_ids):\n",
        "\n",
        "  #number of users and movies in training data\n",
        "  n_users, n_items = data['train'].shape\n",
        "\n",
        "  #generate remommendations for each user we input\n",
        "  for user_id in user_ids:\n",
        "\n",
        "    #movie thay already like\n",
        "    known_positives = data['item_labels'][data['train'].tocsr()[user_id].indices]\n",
        "\n",
        "    #movies our model predicts they will like\n",
        "    scores = model.predict(user_id, np.arange(n_items))\n",
        "\n",
        "    #rank them in order of most liked to least\n",
        "    top_items = data['item_labels'][np.argsort(-scores)]\n",
        "\n",
        "    #print out the results\n",
        "    print(\"User %s\" % user_id)\n",
        "    print(\"     Known positives:\")\n",
        "\n",
        "    for x in known_positives[:3]:\n",
        "      print(\"             %s\" % x)\n",
        "      for x in top_items[:3]:\n",
        "        print(\"             %s\" % x)\n"
      ],
      "execution_count": 0,
      "outputs": []
    },
    {
      "cell_type": "code",
      "metadata": {
        "id": "9H5LTtECcyCw",
        "colab_type": "code",
        "colab": {
          "base_uri": "https://localhost:8080/",
          "height": 1000
        },
        "outputId": "e61495cc-d31c-4876-b03e-68d33722348d"
      },
      "source": [
        "#call the created function\n",
        "sample_recommendation(model, data, [1, 2, 5, 30, 380])"
      ],
      "execution_count": 12,
      "outputs": [
        {
          "output_type": "stream",
          "text": [
            "User 1\n",
            "     Known positives:\n",
            "             Toy Story (1995)\n",
            "             English Patient, The (1996)\n",
            "             Contact (1997)\n",
            "             Titanic (1997)\n",
            "             Postino, Il (1994)\n",
            "             English Patient, The (1996)\n",
            "             Contact (1997)\n",
            "             Titanic (1997)\n",
            "             Birdcage, The (1996)\n",
            "             English Patient, The (1996)\n",
            "             Contact (1997)\n",
            "             Titanic (1997)\n",
            "User 2\n",
            "     Known positives:\n",
            "             Return of the Jedi (1983)\n",
            "             L.A. Confidential (1997)\n",
            "             Titanic (1997)\n",
            "             Contact (1997)\n",
            "             Event Horizon (1997)\n",
            "             L.A. Confidential (1997)\n",
            "             Titanic (1997)\n",
            "             Contact (1997)\n",
            "             Schindler's List (1993)\n",
            "             L.A. Confidential (1997)\n",
            "             Titanic (1997)\n",
            "             Contact (1997)\n",
            "User 5\n",
            "     Known positives:\n",
            "             Toy Story (1995)\n",
            "             Casablanca (1942)\n",
            "             Graduate, The (1967)\n",
            "             Annie Hall (1977)\n",
            "             Babe (1995)\n",
            "             Casablanca (1942)\n",
            "             Graduate, The (1967)\n",
            "             Annie Hall (1977)\n",
            "             Dead Man Walking (1995)\n",
            "             Casablanca (1942)\n",
            "             Graduate, The (1967)\n",
            "             Annie Hall (1977)\n",
            "User 30\n",
            "     Known positives:\n",
            "             Crumb (1994)\n",
            "             L.A. Confidential (1997)\n",
            "             English Patient, The (1996)\n",
            "             Taxi Driver (1976)\n",
            "             Lone Star (1996)\n",
            "             L.A. Confidential (1997)\n",
            "             English Patient, The (1996)\n",
            "             Taxi Driver (1976)\n",
            "             Mr. Smith Goes to Washington (1939)\n",
            "             L.A. Confidential (1997)\n",
            "             English Patient, The (1996)\n",
            "             Taxi Driver (1976)\n",
            "User 380\n",
            "     Known positives:\n",
            "             Toy Story (1995)\n",
            "             Casablanca (1942)\n",
            "             Sense and Sensibility (1995)\n",
            "             Star Wars (1977)\n",
            "             Mighty Aphrodite (1995)\n",
            "             Casablanca (1942)\n",
            "             Sense and Sensibility (1995)\n",
            "             Star Wars (1977)\n",
            "             Postino, Il (1994)\n",
            "             Casablanca (1942)\n",
            "             Sense and Sensibility (1995)\n",
            "             Star Wars (1977)\n"
          ],
          "name": "stdout"
        }
      ]
    },
    {
      "cell_type": "code",
      "metadata": {
        "id": "M4NRASzIdBq8",
        "colab_type": "code",
        "colab": {}
      },
      "source": [
        ""
      ],
      "execution_count": 0,
      "outputs": []
    }
  ]
}