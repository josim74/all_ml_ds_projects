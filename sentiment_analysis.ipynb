{
  "nbformat": 4,
  "nbformat_minor": 0,
  "metadata": {
    "colab": {
      "name": "sentiment_analysis.ipynb",
      "provenance": []
    },
    "kernelspec": {
      "name": "python3",
      "display_name": "Python 3"
    }
  },
  "cells": [
    {
      "cell_type": "markdown",
      "metadata": {
        "id": "0s0xmOWilHBp",
        "colab_type": "text"
      },
      "source": [
        "## In this notebook, I am going to analyze the Sentiment of the Twitter posts"
      ]
    },
    {
      "cell_type": "markdown",
      "metadata": {
        "id": "AcIzPpWUns7p",
        "colab_type": "text"
      },
      "source": [
        "Sentiment Analysis is just understanding and extracting feelings from data."
      ]
    },
    {
      "cell_type": "code",
      "metadata": {
        "id": "urkG8kXhj_kN",
        "colab_type": "code",
        "colab": {}
      },
      "source": [
        "#import TextBlob to accomplish the NLP tasks\n",
        "from textblob import TextBlob\n",
        "\n",
        "#import tweepy to access Twitter API\n",
        "import tweepy\n",
        "\n",
        "#Twitter access resources\n",
        "consumer_key = 'XFW33eNzfrDPPr1Da8XY6uSxr'\n",
        "consumer_secret = 'OECpspMRx5XfcljFVe33Y3tD3QSremEStGaHkgRarmu6EIR5C4'\n",
        "\n",
        "access_token = '1054222081628372993-LO8sjgRND3JrKLZA7l4A1OoGxBwWSv'\n",
        "access_token_secret = 'P9ipUAvLgN8xFLMewbCgkUgktg1VjW39d8lS03KUYf1NS'\n",
        "\n",
        "#Twitter authentication\n",
        "auth = tweepy.OAuthHandler(consumer_key, consumer_secret)\n",
        "auth.set_access_token(access_token, access_token_secret)\n",
        "api = tweepy.API(auth)\n"
      ],
      "execution_count": 0,
      "outputs": []
    },
    {
      "cell_type": "markdown",
      "metadata": {
        "id": "Ii9LiJIqqBoV",
        "colab_type": "text"
      },
      "source": [
        "**Search in public tweets with words**"
      ]
    },
    {
      "cell_type": "code",
      "metadata": {
        "id": "T9bW0u1Kki9e",
        "colab_type": "code",
        "colab": {
          "base_uri": "https://localhost:8080/",
          "height": 801
        },
        "outputId": "17118cde-3d2c-45f4-9881-882eaa4b7bd3"
      },
      "source": [
        "public_tweets = api.search('Machine Learning')\n",
        "\n",
        "for tweet in public_tweets:\n",
        "  print(tweet.text)\n",
        "  analysis = TextBlob(tweet.text)\n",
        "  print(analysis.sentiment)"
      ],
      "execution_count": 8,
      "outputs": [
        {
          "output_type": "stream",
          "text": [
            "What happens when medical researchers use @awscloud #AITechnology? @HealthDataPGH intends to find out.… https://t.co/tOwn8BWjmy\n",
            "Sentiment(polarity=0.0, subjectivity=0.0)\n",
            "Samsung PCIe 4 ‘Never Die’ SSDs: Machine Learning, Built-in Virtualization Support https://t.co/GRUjUFv56B https://t.co/NSTWkDFUOT\n",
            "Sentiment(polarity=0.0, subjectivity=0.0)\n",
            "RT @EpiEllie: When the machine learning algorithm looks super complex &amp; scary but it’s really just logistic regression....\n",
            " https://t.co/u3…\n",
            "Sentiment(polarity=-0.06666666666666667, subjectivity=0.5666666666666667)\n",
            "RT @techreview: Machine learning can track you down, even when your personal details have been stripped out. https://t.co/V22G73oyet\n",
            "Sentiment(polarity=-0.07777777777777779, subjectivity=0.29444444444444445)\n",
            "RT @nokianetworks: The Telco AI Benchmarking Survey results are in. But how does your own AI journey compare? \n",
            "\n",
            "How much progress has your…\n",
            "Sentiment(polarity=0.4, subjectivity=0.6)\n",
            "RT @_c0c0n_: Offensive Machine Learning for Pentesters and Red Teams\n",
            "Tamaghna Basu\n",
            "CTO, https://t.co/yFlmSxcv9B.\n",
            "#c0c0n XII \n",
            "REGISTER NOW..…\n",
            "Sentiment(polarity=0.0, subjectivity=0.0)\n",
            "RT @EpiEllie: When the machine learning algorithm looks super complex &amp; scary but it’s really just logistic regression....\n",
            " https://t.co/u3…\n",
            "Sentiment(polarity=-0.06666666666666667, subjectivity=0.5666666666666667)\n",
            "@TeeAndersVolpe @mchorowitz @heatherwilly @drfranksauer @NiklasSchoernig Tristan, the emerging stuff (AI, machine l… https://t.co/tOGi9ODjYM\n",
            "Sentiment(polarity=0.0, subjectivity=0.0)\n",
            "RT @EpiEllie: When the machine learning algorithm looks super complex &amp; scary but it’s really just logistic regression....\n",
            " https://t.co/u3…\n",
            "Sentiment(polarity=-0.06666666666666667, subjectivity=0.5666666666666667)\n",
            "RT @miquelmarin: HACIA UN MUNDO DIGITAL\n",
            "EL CAMBIO SERÁ RADICAL.\n",
            "https://t.co/ihARyupca2\n",
            "Revolución de la IA, la biometría y el Machine Lear…\n",
            "Sentiment(polarity=0.0, subjectivity=0.0)\n",
            "RT @Foursquare: We’re hiring an Engineering Director in Seattle to lead our high impact team of machine learning engineers, system engineer…\n",
            "Sentiment(polarity=0.16, subjectivity=0.5399999999999999)\n",
            "RT @Minh_Q_Tran: Using Machine Learning In Venture Capital via @forbes https://t.co/1xx26fNAZu\n",
            "Sentiment(polarity=0.0, subjectivity=0.0)\n",
            "RT @triggermesh: Serverless machine learning reduces development burdens - https://t.co/8NHBC6Q07X #serverless #faas #artificialintelligence\n",
            "Sentiment(polarity=0.0, subjectivity=0.0)\n",
            "RT @IntelDevTools: If your focus is data science, machine learning, or numerical computing, chances are good that you use Python*. Tune in…\n",
            "Sentiment(polarity=0.7, subjectivity=0.6000000000000001)\n",
            "RT @stpiindia: #FoodTech companies like @Zomato &amp; @Swiggy_In are increasingly turning towards #AI, #ML &amp; #DataAnalytics to leverage huge cu…\n",
            "Sentiment(polarity=0.4000000000000001, subjectivity=0.9)\n"
          ],
          "name": "stdout"
        }
      ]
    },
    {
      "cell_type": "code",
      "metadata": {
        "id": "gyIlV5TArHvx",
        "colab_type": "code",
        "colab": {}
      },
      "source": [
        ""
      ],
      "execution_count": 0,
      "outputs": []
    }
  ]
}