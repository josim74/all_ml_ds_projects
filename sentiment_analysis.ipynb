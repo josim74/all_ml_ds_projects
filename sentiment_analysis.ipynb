{
  "nbformat": 4,
  "nbformat_minor": 0,
  "metadata": {
    "colab": {
      "name": "sentiment_analysis.ipynb",
      "provenance": [],
      "include_colab_link": true
    },
    "kernelspec": {
      "name": "python3",
      "display_name": "Python 3"
    }
  },
  "cells": [
    {
      "cell_type": "markdown",
      "metadata": {
        "id": "view-in-github",
        "colab_type": "text"
      },
      "source": [
        "<a href=\"https://colab.research.google.com/github/josim74/all_ml_ds_projects/blob/sentiment_analysis/sentiment_analysis.ipynb\" target=\"_parent\"><img src=\"https://colab.research.google.com/assets/colab-badge.svg\" alt=\"Open In Colab\"/></a>"
      ]
    },
    {
      "cell_type": "markdown",
      "metadata": {
        "id": "0s0xmOWilHBp",
        "colab_type": "text"
      },
      "source": [
        "## In this notebook, I am going to analyze the Sentiment of the Twitter posts"
      ]
    },
    {
      "cell_type": "markdown",
      "metadata": {
        "id": "AcIzPpWUns7p",
        "colab_type": "text"
      },
      "source": [
        "Sentiment Analysis is just understanding and extracting feelings from data."
      ]
    },
    {
      "cell_type": "code",
      "metadata": {
        "id": "urkG8kXhj_kN",
        "colab_type": "code",
        "colab": {}
      },
      "source": [
        "#import TextBlob to accomplish the NLP tasks\n",
        "from textblob import TextBlob\n",
        "\n",
        "#import tweepy to access Twitter API\n",
        "import tweepy\n",
        "\n",
        "#Twitter access resources\n",
        "consumer_key = 'XFW33eNzfrDPPr1Da8XY6uSxr'\n",
        "consumer_secret = 'OECpspMRx5XfcljFVe33Y3tD3QSremEStGaHkgRarmu6EIR5C4'\n",
        "\n",
        "access_token = '1054222081628372993-LO8sjgRND3JrKLZA7l4A1OoGxBwWSv'\n",
        "access_token_secret = 'P9ipUAvLgN8xFLMewbCgkUgktg1VjW39d8lS03KUYf1NS'\n",
        "\n",
        "#Twitter authentication\n",
        "auth = tweepy.OAuthHandler(consumer_key, consumer_secret)\n",
        "auth.set_access_token(access_token, access_token_secret)\n",
        "api = tweepy.API(auth)\n"
      ],
      "execution_count": 0,
      "outputs": []
    },
    {
      "cell_type": "markdown",
      "metadata": {
        "id": "Ii9LiJIqqBoV",
        "colab_type": "text"
      },
      "source": [
        "**Search in public tweets with words**"
      ]
    },
    {
      "cell_type": "code",
      "metadata": {
        "id": "T9bW0u1Kki9e",
        "colab_type": "code",
        "colab": {}
      },
      "source": [
        "public_tweets = api.search('Machine Learning')"
      ],
      "execution_count": 0,
      "outputs": []
    },
    {
      "cell_type": "markdown",
      "metadata": {
        "id": "3XQy7QK19LfI",
        "colab_type": "text"
      },
      "source": [
        "**Analyze Sentiment and print**"
      ]
    },
    {
      "cell_type": "code",
      "metadata": {
        "id": "gyIlV5TArHvx",
        "colab_type": "code",
        "colab": {
          "base_uri": "https://localhost:8080/",
          "height": 726
        },
        "outputId": "48ff07a0-2c6c-4d3c-ec89-fd7a027f6d76"
      },
      "source": [
        "for tweet in public_tweets:\n",
        "  print(tweet.text)\n",
        "  analysis = TextBlob(tweet.text)\n",
        "  print(analysis.sentiment)"
      ],
      "execution_count": 10,
      "outputs": [
        {
          "output_type": "stream",
          "text": [
            "Machine Learning in Action: A Primer for The Layman, Step by Step Guide for Newbies (Machine Learning for Beginners… https://t.co/O3F4PoobtE\n",
            "Sentiment(polarity=0.1, subjectivity=0.1)\n",
            "RT @EpiEllie: When the machine learning algorithm looks super complex &amp; scary but it’s really just logistic regression....\n",
            " https://t.co/u3…\n",
            "Sentiment(polarity=-0.06666666666666667, subjectivity=0.5666666666666667)\n",
            "RT @DataScienceCtrl: What a CEO needs to know about Machine Learning algorithms https://t.co/NUFQk2HNM5\n",
            "Sentiment(polarity=0.0, subjectivity=0.0)\n",
            "RT @nokianetworks: The Telco AI Benchmarking Survey results are in. But how does your own AI journey compare? \n",
            "\n",
            "How much progress has your…\n",
            "Sentiment(polarity=0.4, subjectivity=0.6)\n",
            "RT @EpiEllie: When the machine learning algorithm looks super complex &amp; scary but it’s really just logistic regression....\n",
            " https://t.co/u3…\n",
            "Sentiment(polarity=-0.06666666666666667, subjectivity=0.5666666666666667)\n",
            "RT @EpiEllie: When the machine learning algorithm looks super complex &amp; scary but it’s really just logistic regression....\n",
            " https://t.co/u3…\n",
            "Sentiment(polarity=-0.06666666666666667, subjectivity=0.5666666666666667)\n",
            "machine learning\n",
            "Sentiment(polarity=0.0, subjectivity=0.0)\n",
            "Utenti business e fruizione delle previsioni della domanda: deve esserci un modo più semplice e c’è! Scopri l’app i… https://t.co/uMafe4LNIl\n",
            "Sentiment(polarity=0.0, subjectivity=0.0)\n",
            "Machine learning and AI will create med models which would have more efficacy than current doctors prognosis. https://t.co/6I5HxAitVa\n",
            "Sentiment(polarity=0.25, subjectivity=0.45)\n",
            "RT @nokianetworks: The Telco AI Benchmarking Survey results are in. But how does your own AI journey compare? \n",
            "\n",
            "How much progress has your…\n",
            "Sentiment(polarity=0.4, subjectivity=0.6)\n",
            "RT @EpiEllie: When the machine learning algorithm looks super complex &amp; scary but it’s really just logistic regression....\n",
            " https://t.co/u3…\n",
            "Sentiment(polarity=-0.06666666666666667, subjectivity=0.5666666666666667)\n",
            "RT @yaleisp: Our Andrew Burt @AndBurt: \"Warning Signs: The Future of Privacy and Security in an Age of Machine Learning\" https://t.co/fZY71…\n",
            "Sentiment(polarity=0.0, subjectivity=0.125)\n",
            "RT @DataScienceCtrl: What a CEO needs to know about Machine Learning algorithms https://t.co/NUFQk2HNM5\n",
            "Sentiment(polarity=0.0, subjectivity=0.0)\n",
            "RT @DataScienceCtrl: What a CEO needs to know about Machine Learning algorithms https://t.co/NUFQk2HNM5\n",
            "Sentiment(polarity=0.0, subjectivity=0.0)\n",
            "RT @EpiEllie: When the machine learning algorithm looks super complex &amp; scary but it’s really just logistic regression....\n",
            " https://t.co/u3…\n",
            "Sentiment(polarity=-0.06666666666666667, subjectivity=0.5666666666666667)\n"
          ],
          "name": "stdout"
        }
      ]
    },
    {
      "cell_type": "code",
      "metadata": {
        "id": "QsMUDADtFsbu",
        "colab_type": "code",
        "colab": {}
      },
      "source": [
        ""
      ],
      "execution_count": 0,
      "outputs": []
    }
  ]
}